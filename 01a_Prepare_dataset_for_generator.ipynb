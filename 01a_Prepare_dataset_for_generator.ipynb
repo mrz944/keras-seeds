{
 "cells": [
  {
   "cell_type": "markdown",
   "metadata": {},
   "source": [
    "# Prepare dataset for flow_from_directory generator"
   ]
  },
  {
   "cell_type": "code",
   "execution_count": null,
   "metadata": {},
   "outputs": [],
   "source": [
    "import glob\n",
    "import numpy as np\n",
    "from numpy.random import choice\n",
    "import os\n",
    "from os.path import join, split\n",
    "from shutil import move, copy"
   ]
  },
  {
   "cell_type": "code",
   "execution_count": null,
   "metadata": {},
   "outputs": [],
   "source": [
    "valid_ratio = 0.3\n",
    "test_ratio = 0.05"
   ]
  },
  {
   "cell_type": "code",
   "execution_count": null,
   "metadata": {},
   "outputs": [],
   "source": [
    "path = join('data')\n",
    "classes = os.listdir(join(path, 'train'))\n",
    "\n",
    "# remove hidden folders\n",
    "classes = [c for c in classes if c[0] != '.']\n",
    "\n",
    "valid_path = join(path, 'validation')\n",
    "test_path = join(path, 'test')\n",
    "\n",
    "# validation data\n",
    "if not os.path.exists(valid_path):\n",
    "    os.makedirs(valid_path)\n",
    "\n",
    "    for c in classes:\n",
    "        cl_valid_path = join(valid_path, c)\n",
    "        cl_train_path = join(path, 'train', c)\n",
    "        files = glob.glob(join(cl_train_path, '*.jpg'))\n",
    "        os.makedirs(cl_valid_path)\n",
    "        valid = choice(files, int(np.floor(valid_ratio*len(files))), replace=False)\n",
    "        [move(v, join(cl_valid_path, split(v)[1])) for v in valid]\n",
    "\n",
    "# test data\n",
    "if not os.path.exists(test_path):\n",
    "    os.makedirs(test_path)\n",
    "\n",
    "    for c in classes:\n",
    "        cl_test_path = join(test_path, c)\n",
    "        cl_train_path = join(path, 'train', c)\n",
    "        files = glob.glob(join(cl_train_path, '*.jpg'))\n",
    "        os.makedirs(cl_test_path)\n",
    "        test = choice(files, int(np.floor((1-valid_ratio)*test_ratio*len(files))), replace=False)\n",
    "        [move(v, join(cl_test_path, split(v)[1])) for v in test]"
   ]
  }
 ],
 "metadata": {
  "kernelspec": {
   "display_name": "Python 2",
   "language": "python",
   "name": "python2"
  },
  "language_info": {
   "codemirror_mode": {
    "name": "ipython",
    "version": 2
   },
   "file_extension": ".py",
   "mimetype": "text/x-python",
   "name": "python",
   "nbconvert_exporter": "python",
   "pygments_lexer": "ipython2",
   "version": "2.7.12"
  }
 },
 "nbformat": 4,
 "nbformat_minor": 2
}
